{
 "cells": [
  {
   "cell_type": "code",
   "execution_count": 1,
   "metadata": {},
   "outputs": [
    {
     "data": {
      "text/plain": [
       "'Base.csv'"
      ]
     },
     "execution_count": 1,
     "metadata": {},
     "output_type": "execute_result"
    }
   ],
   "source": [
    "import pandas as pd\n",
    "import numpy as np\n",
    "import random\n",
    "\n",
    "# Define constants\n",
    "regions = [\"Bangalore North\", \"Bangalore South\", \"Bangalore Central\", \"Bangalore East\"]\n",
    "time_slots = [\"10-12\", \"12-3\", \"3-5\"]\n",
    "days = [\"Monday\", \"Tuesday\", \"Wednesday\", \"Thursday\", \"Friday\"]\n",
    "\n",
    "# Number of entries\n",
    "n_entries = 3922\n",
    "\n",
    "# Generate random data\n",
    "data = {\n",
    "    \"CUSTOMER ID\": [f\"CUST_{i+1}\" for i in range(n_entries)],\n",
    "    \"RECEIVER REGION\": [random.choice(regions) for _ in range(n_entries)],\n",
    "    \"TIME SLOT\": [random.choice(time_slots) for _ in range(n_entries)],\n",
    "    \"DAY\": [random.choice(days) for _ in range(n_entries)],\n",
    "    \"DISTANCE\": np.round(np.random.uniform(1, 15, n_entries), 2),\n",
    "    \"NO OF TRIES\": np.random.choice([1, 2], size=n_entries, p=[0.65, 0.35]),  # Keeping avg tries > 1 but < 2\n",
    "    \"DELIVERY OUTCOME\": [random.choice([0, 1]) for _ in range(n_entries)]\n",
    "}\n",
    "\n",
    "# Convert to DataFrame\n",
    "df = pd.DataFrame(data)\n",
    "\n",
    "# Save to CSV\n",
    "file_path = \"Base.csv\"\n",
    "#df.to_csv(file_path, index=False)\n",
    "\n",
    "file_path"
   ]
  },
  {
   "cell_type": "code",
   "execution_count": 2,
   "metadata": {},
   "outputs": [
    {
     "data": {
      "text/plain": [
       "('Base.csv', 1.558643549209587)"
      ]
     },
     "execution_count": 2,
     "metadata": {},
     "output_type": "execute_result"
    }
   ],
   "source": [
    "data[\"NO OF TRIES\"] = np.random.choice([1, 2, 3], size=n_entries, p=[0.5, 0.45, 0.05])\n",
    "\n",
    "# Convert to DataFrame\n",
    "df_adjusted = pd.DataFrame(data)\n",
    "\n",
    "# Save the adjusted DataFrame to CSV\n",
    "adjusted_file_path = \"Base.csv\"\n",
    "df_adjusted.to_csv(adjusted_file_path, index=False)\n",
    "\n",
    "# Calculate the average number of tries to ensure correctness\n",
    "average_tries = df_adjusted[\"NO OF TRIES\"].mean()\n",
    "\n",
    "adjusted_file_path, average_tries\n"
   ]
  },
  {
   "cell_type": "code",
   "execution_count": 3,
   "metadata": {},
   "outputs": [
    {
     "data": {
      "text/plain": [
       "('Base.csv', 1.922233554309026)"
      ]
     },
     "execution_count": 3,
     "metadata": {},
     "output_type": "execute_result"
    }
   ],
   "source": [
    "data[\"NO OF TRIES\"] = np.random.choice([1, 2, 3], size=n_entries, p=[0.3, 0.5, 0.2])\n",
    "\n",
    "# Convert to DataFrame\n",
    "df_adjusted_tries = pd.DataFrame(data)\n",
    "\n",
    "# Save the adjusted DataFrame to CSV\n",
    "final_file_path = \"Base.csv\"\n",
    "df_adjusted_tries.to_csv(final_file_path, index=False)\n",
    "\n",
    "# Calculate the average number of tries to ensure correctness\n",
    "final_average_tries = df_adjusted_tries[\"NO OF TRIES\"].mean()\n",
    "\n",
    "final_file_path, final_average_tries"
   ]
  },
  {
   "cell_type": "code",
   "execution_count": 1,
   "metadata": {},
   "outputs": [
    {
     "data": {
      "text/plain": [
       "('Base-v2.csv', 1.9604793472718)"
      ]
     },
     "execution_count": 1,
     "metadata": {},
     "output_type": "execute_result"
    }
   ],
   "source": [
    "import pandas as pd\n",
    "import numpy as np\n",
    "import random\n",
    "\n",
    "# Define constants\n",
    "regions = [\"Bangalore North\", \"Bangalore South\", \"Bangalore Central\", \"Bangalore East\"]\n",
    "time_slots = [\"10-12\", \"12-3\", \"3-5\"]\n",
    "days = [\"Monday\", \"Tuesday\", \"Wednesday\", \"Thursday\", \"Friday\"]\n",
    "\n",
    "# Number of entries\n",
    "n_entries = 3922\n",
    "\n",
    "# Generate random data\n",
    "data = {\n",
    "    \"CUSTOMER ID\": [f\"CUST_{i+1}\" for i in range(n_entries)],\n",
    "    \"RECEIVER REGION\": [random.choice(regions) for _ in range(n_entries)],\n",
    "    \"TIME SLOT\": [random.choice(time_slots) for _ in range(n_entries)],\n",
    "    \"DAY\": [random.choice(days) for _ in range(n_entries)],\n",
    "    \"DISTANCE\": np.round(np.random.uniform(1, 30, n_entries), 2),  # Increase range\n",
    "    \"NO OF TRIES\": np.random.choice([1, 2, 3, 4, 5], size=n_entries, p=[0.4, 0.35, 0.15, 0.05, 0.05]),  # More variety\n",
    "    \"DELIVERY OUTCOME\": [random.choice([0, 1]) for _ in range(n_entries)]\n",
    "}\n",
    "\n",
    "# Convert to DataFrame\n",
    "df = pd.DataFrame(data)\n",
    "\n",
    "# Save to CSV\n",
    "file_path = \"Base-v2.csv\"\n",
    "df.to_csv(file_path, index=False)\n",
    "\n",
    "# Calculate the average number of tries to ensure correctness\n",
    "average_tries = df[\"NO OF TRIES\"].mean()\n",
    "\n",
    "file_path, average_tries\n"
   ]
  }
 ],
 "metadata": {
  "kernelspec": {
   "display_name": "Python 3",
   "language": "python",
   "name": "python3"
  },
  "language_info": {
   "codemirror_mode": {
    "name": "ipython",
    "version": 3
   },
   "file_extension": ".py",
   "mimetype": "text/x-python",
   "name": "python",
   "nbconvert_exporter": "python",
   "pygments_lexer": "ipython3",
   "version": "3.11.9"
  }
 },
 "nbformat": 4,
 "nbformat_minor": 2
}
