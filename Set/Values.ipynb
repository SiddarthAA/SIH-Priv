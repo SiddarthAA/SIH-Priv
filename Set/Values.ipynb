{
 "cells": [
  {
   "cell_type": "code",
   "execution_count": 2,
   "metadata": {},
   "outputs": [
    {
     "name": "stdout",
     "output_type": "stream",
     "text": [
      "Overall Success Rate: 0.5033146353901071\n",
      "Overall Failure Rate: 0.4966853646098929\n",
      "\n",
      "Success Rate per Region:\n",
      " RECEIVER REGION\n",
      "Bangalore Central    0.496063\n",
      "Bangalore East       0.515924\n",
      "Bangalore North      0.507645\n",
      "Bangalore South      0.494405\n",
      "Name: DELIVERY OUTCOME, dtype: float64\n",
      "\n",
      "Failure Rate per Region:\n",
      " RECEIVER REGION\n",
      "Bangalore Central    0.503937\n",
      "Bangalore East       0.484076\n",
      "Bangalore North      0.492355\n",
      "Bangalore South      0.505595\n",
      "Name: DELIVERY OUTCOME, dtype: float64\n",
      "\n",
      "Average Number of Tries for Delivery: 1.9604793472718\n"
     ]
    }
   ],
   "source": [
    "import pandas as pd\n",
    "\n",
    "# Load the CSV file into a DataFrame\n",
    "df = pd.read_csv('Base-v2.csv')\n",
    "\n",
    "# Function to calculate average success and failure rates overall\n",
    "def calculate_avg_rates_overall(df):\n",
    "    success_rate = df['DELIVERY OUTCOME'].mean()\n",
    "    failure_rate = 1 - success_rate\n",
    "    return success_rate, failure_rate\n",
    "\n",
    "# Function to calculate average success and failure rates per region\n",
    "def calculate_avg_rates_per_region(df):\n",
    "    region_group = df.groupby('RECEIVER REGION')['DELIVERY OUTCOME']\n",
    "    success_rate_per_region = region_group.mean()\n",
    "    failure_rate_per_region = 1 - success_rate_per_region\n",
    "    return success_rate_per_region, failure_rate_per_region\n",
    "\n",
    "# Function to calculate average number of tries for delivery\n",
    "def calculate_avg_no_of_tries(df):\n",
    "    avg_tries = df['NO OF TRIES'].mean()\n",
    "    return avg_tries\n",
    "\n",
    "# Calculations\n",
    "overall_success_rate, overall_failure_rate = calculate_avg_rates_overall(df)\n",
    "success_rate_per_region, failure_rate_per_region = calculate_avg_rates_per_region(df)\n",
    "avg_tries = calculate_avg_no_of_tries(df)\n",
    "\n",
    "# Display the results\n",
    "print(\"Overall Success Rate:\", overall_success_rate)\n",
    "print(\"Overall Failure Rate:\", overall_failure_rate)\n",
    "print(\"\\nSuccess Rate per Region:\\n\", success_rate_per_region)\n",
    "print(\"\\nFailure Rate per Region:\\n\", failure_rate_per_region)\n",
    "print(\"\\nAverage Number of Tries for Delivery:\", avg_tries)"
   ]
  },
  {
   "cell_type": "code",
   "execution_count": null,
   "metadata": {},
   "outputs": [],
   "source": []
  }
 ],
 "metadata": {
  "kernelspec": {
   "display_name": "Python 3",
   "language": "python",
   "name": "python3"
  },
  "language_info": {
   "codemirror_mode": {
    "name": "ipython",
    "version": 3
   },
   "file_extension": ".py",
   "mimetype": "text/x-python",
   "name": "python",
   "nbconvert_exporter": "python",
   "pygments_lexer": "ipython3",
   "version": "3.12.4"
  }
 },
 "nbformat": 4,
 "nbformat_minor": 2
}
