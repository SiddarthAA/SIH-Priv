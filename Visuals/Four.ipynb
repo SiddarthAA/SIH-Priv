{
 "cells": [
  {
   "cell_type": "code",
   "execution_count": 1,
   "metadata": {},
   "outputs": [],
   "source": [
    "import pandas as pd\n",
    "import matplotlib.pyplot as plt\n",
    "import seaborn as sns"
   ]
  },
  {
   "cell_type": "code",
   "execution_count": 2,
   "metadata": {},
   "outputs": [],
   "source": [
    "data = pd.read_csv('C:\\\\Users\\\\sidda\\\\OneDrive\\\\Desktop\\\\SIH v2\\\\Set\\\\Base-v2.csv')"
   ]
  },
  {
   "cell_type": "code",
   "execution_count": 3,
   "metadata": {},
   "outputs": [
    {
     "name": "stdout",
     "output_type": "stream",
     "text": [
      "Overall Success Rate: 0.50\n",
      "              Region  Success Rate\n",
      "0  Bangalore Central      0.496063\n",
      "1     Bangalore East      0.515924\n",
      "2    Bangalore North      0.507645\n",
      "3    Bangalore South      0.494405\n"
     ]
    }
   ],
   "source": [
    "# Calculate the overall success rate\n",
    "overall_success_rate = data['DELIVERY OUTCOME'].mean()\n",
    "\n",
    "# Calculate the success rate for each region\n",
    "region_success_rate = data.groupby('RECEIVER REGION')['DELIVERY OUTCOME'].mean().reset_index()\n",
    "region_success_rate.columns = ['Region', 'Success Rate']\n",
    "\n",
    "# Print the results to verify\n",
    "print(f\"Overall Success Rate: {overall_success_rate:.2f}\")\n",
    "print(region_success_rate)"
   ]
  }
 ],
 "metadata": {
  "kernelspec": {
   "display_name": "Python 3",
   "language": "python",
   "name": "python3"
  },
  "language_info": {
   "codemirror_mode": {
    "name": "ipython",
    "version": 3
   },
   "file_extension": ".py",
   "mimetype": "text/x-python",
   "name": "python",
   "nbconvert_exporter": "python",
   "pygments_lexer": "ipython3",
   "version": "3.11.9"
  }
 },
 "nbformat": 4,
 "nbformat_minor": 2
}
