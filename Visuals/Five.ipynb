{
 "cells": [
  {
   "cell_type": "code",
   "execution_count": null,
   "metadata": {},
   "outputs": [],
   "source": [
    "import pandas as pd\n",
    "import numpy as np\n",
    "import matplotlib.pyplot as plt\n",
    "import seaborn as sns\n",
    "from sklearn.cluster import KMeans\n",
    "from sklearn.preprocessing import StandardScaler"
   ]
  },
  {
   "cell_type": "code",
   "execution_count": null,
   "metadata": {},
   "outputs": [],
   "source": [
    "data = pd.read_csv('C:\\\\Users\\\\sidda\\\\OneDrive\\\\Desktop\\\\SIH v2\\\\Set\\\\Base-v2.csv')"
   ]
  },
  {
   "cell_type": "code",
   "execution_count": null,
   "metadata": {},
   "outputs": [],
   "source": [
    "# Calculate the average number of delivery attempts for each time slot\n",
    "timeslot_attempts = data.groupby('TIME SLOT')['NO OF TRIES'].mean().reset_index()\n",
    "\n",
    "# Set up the figure\n",
    "plt.figure(figsize=(12, 6))\n",
    "\n",
    "# Plot the line graph\n",
    "sns.lineplot(data=timeslot_attempts, x='TIME SLOT', y='NO OF TRIES', marker='o', color='blue', linestyle='-', linewidth=2)\n",
    "\n",
    "# Add title and labels\n",
    "plt.title('Average Number of Delivery Attempts by Time Slot', fontsize=18, fontweight='bold')\n",
    "plt.xlabel('Time Slot', fontsize=14, fontweight='bold')\n",
    "plt.ylabel('Average Number of Attempts', fontsize=14, fontweight='bold')\n",
    "\n",
    "# Show the plot with tight layout\n",
    "plt.tight_layout()\n",
    "plt.show()"
   ]
  },
  {
   "cell_type": "code",
   "execution_count": null,
   "metadata": {},
   "outputs": [],
   "source": [
    "# Pivot the data to create a matrix of attempts by day and time slot\n",
    "heatmap_data = data.pivot_table(index='TIME SLOT', columns='DAY', values='NO OF TRIES', aggfunc='mean')\n",
    "\n",
    "# Set up the figure\n",
    "plt.figure(figsize=(12, 8))\n",
    "\n",
    "# Plot the heatmap\n",
    "sns.heatmap(heatmap_data, cmap='coolwarm', annot=True, fmt='.1f', linewidths=0.5)\n",
    "\n",
    "# Add title and labels\n",
    "plt.title('Heatmap of Average Delivery Attempts by Time Slot and Day', fontsize=18, fontweight='bold')\n",
    "plt.xlabel('Day', fontsize=14, fontweight='bold')\n",
    "plt.ylabel('Time Slot', fontsize=14, fontweight='bold')\n",
    "\n",
    "# Show the plot with tight layout\n",
    "plt.tight_layout()\n",
    "plt.show()"
   ]
  },
  {
   "cell_type": "code",
   "execution_count": null,
   "metadata": {},
   "outputs": [],
   "source": [
    "time_slot_deliveries = data.groupby('TIME SLOT').size().reset_index(name='Total Deliveries')"
   ]
  },
  {
   "cell_type": "code",
   "execution_count": null,
   "metadata": {},
   "outputs": [],
   "source": [
    "# Set up the figure\n",
    "plt.figure(figsize=(12, 6))\n",
    "\n",
    "# Plot the bar chart\n",
    "sns.barplot(data=time_slot_deliveries, x='TIME SLOT', y='Total Deliveries', palette='viridis', edgecolor='black')\n",
    "\n",
    "# Add title and labels\n",
    "plt.title('Total Number of Deliveries by Time Slot', fontsize=18, fontweight='bold')\n",
    "plt.xlabel('Time Slot', fontsize=14, fontweight='bold')\n",
    "plt.ylabel('Total Deliveries', fontsize=14, fontweight='bold')\n",
    "\n",
    "# Rotate x-axis labels for better readability\n",
    "plt.xticks(rotation=45, fontsize=12)\n",
    "\n",
    "# Show the plot with tight layout\n",
    "plt.tight_layout()\n",
    "plt.show()"
   ]
  },
  {
   "cell_type": "code",
   "execution_count": null,
   "metadata": {},
   "outputs": [],
   "source": [
    "# Define the time slots to increase\n",
    "slots_to_increase = ['3-5']\n",
    "\n",
    "# Define the factor by which to increase the delivery counts\n",
    "increase_factor = 4000 # You can adjust this factor as needed\n",
    "\n",
    "# Check which slots are in the data\n",
    "print(\"Unique time slots in the data:\", data['TIME SLOT'].unique())\n",
    "\n",
    "# Increase the number of deliveries for the specified time slots\n",
    "for slot in slots_to_increase:\n",
    "    if slot in data['TIME SLOT'].values:\n",
    "        # Increase the 'NO OF TRIES' by the factor\n",
    "        data.loc[data['TIME SLOT'] == slot, 'NO OF TRIES'] *= increase_factor\n",
    "\n",
    "        # Optional: Limit the maximum number of tries to avoid excessively high values\n",
    "        data['NO OF TRIES'] = data['NO OF TRIES'].clip(upper=10)\n",
    "\n",
    "# Verify the changes\n",
    "print(data[data['TIME SLOT'] == '3-5'].head())"
   ]
  },
  {
   "cell_type": "code",
   "execution_count": null,
   "metadata": {},
   "outputs": [],
   "source": [
    "import matplotlib.pyplot as plt\n",
    "import seaborn as sns\n",
    "\n",
    "# Calculate the total number of deliveries for each time slot\n",
    "time_slot_deliveries = data.groupby('TIME SLOT').size().reset_index(name='Total Deliveries')\n",
    "\n",
    "# Set up the figure\n",
    "plt.figure(figsize=(12, 6))\n",
    "\n",
    "# Plot the bar chart\n",
    "sns.barplot(data=time_slot_deliveries, x='TIME SLOT', y='Total Deliveries', palette='viridis', edgecolor='black')\n",
    "\n",
    "# Add title and labels\n",
    "plt.title('Total Number of Deliveries by Time Slot (After Manipulation)', fontsize=18, fontweight='bold')\n",
    "plt.xlabel('Time Slot', fontsize=14, fontweight='bold')\n",
    "plt.ylabel('Total Deliveries', fontsize=14, fontweight='bold')\n",
    "\n",
    "# Rotate x-axis labels for better readability\n",
    "plt.xticks(rotation=45, fontsize=12)\n",
    "\n",
    "# Show the plot with tight layout\n",
    "plt.tight_layout()\n",
    "plt.show()"
   ]
  }
 ],
 "metadata": {
  "kernelspec": {
   "display_name": "Python 3",
   "language": "python",
   "name": "python3"
  },
  "language_info": {
   "codemirror_mode": {
    "name": "ipython",
    "version": 3
   },
   "file_extension": ".py",
   "mimetype": "text/x-python",
   "name": "python",
   "nbconvert_exporter": "python",
   "pygments_lexer": "ipython3",
   "version": "3.11.9"
  }
 },
 "nbformat": 4,
 "nbformat_minor": 2
}
